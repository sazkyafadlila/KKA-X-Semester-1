{
  "nbformat": 4,
  "nbformat_minor": 0,
  "metadata": {
    "colab": {
      "provenance": [],
      "authorship_tag": "ABX9TyN/3eKS39FVWIw8IOK6xZA6",
      "include_colab_link": true
    },
    "kernelspec": {
      "name": "python3",
      "display_name": "Python 3"
    },
    "language_info": {
      "name": "python"
    }
  },
  "cells": [
    {
      "cell_type": "markdown",
      "metadata": {
        "id": "view-in-github",
        "colab_type": "text"
      },
      "source": [
        "<a href=\"https://colab.research.google.com/github/sazkyafadlila/KKA-X-Semester-1/blob/main/1_Fungsi_print_x_3_sazkya_f.ipynb\" target=\"_parent\"><img src=\"https://colab.research.google.com/assets/colab-badge.svg\" alt=\"Open In Colab\"/></a>"
      ]
    },
    {
      "cell_type": "markdown",
      "source": [
        "nama: Sazkya fadlila\n",
        "\n",
        "kelas: x.3\n",
        "\n",
        "absen: 29"
      ],
      "metadata": {
        "id": "oSXes0W3gZkn"
      }
    },
    {
      "cell_type": "markdown",
      "source": [
        "#Menampilkan Teks Bebas"
      ],
      "metadata": {
        "id": "0Lu-uNSOjEOE"
      }
    },
    {
      "cell_type": "code",
      "execution_count": null,
      "metadata": {
        "id": "yms-KVILgLop",
        "colab": {
          "base_uri": "https://localhost:8080/"
        },
        "outputId": "ff89606d-4b3b-4605-c250-17337c4f7793"
      },
      "outputs": [
        {
          "output_type": "stream",
          "name": "stdout",
          "text": [
            "Sazkya fadlila\n"
          ]
        }
      ],
      "source": [
        "print(\"Sazkya fadlila\")"
      ]
    },
    {
      "cell_type": "code",
      "source": [
        "print('Sazkya fadlila')"
      ],
      "metadata": {
        "id": "TLvpKg2VkC6C",
        "colab": {
          "base_uri": "https://localhost:8080/"
        },
        "outputId": "17635550-683e-4af1-c9c8-dd382189fd59"
      },
      "execution_count": null,
      "outputs": [
        {
          "output_type": "stream",
          "name": "stdout",
          "text": [
            "Sazkya fadlila\n"
          ]
        }
      ]
    },
    {
      "cell_type": "markdown",
      "source": [
        "#Menampilkan Nilai variabel"
      ],
      "metadata": {
        "id": "RvBwdj6gkjoq"
      }
    },
    {
      "cell_type": "code",
      "source": [
        "Nama=\"Sazkya Fadlila\"\n",
        "usia=15"
      ],
      "metadata": {
        "id": "5oss6vYmkvGc"
      },
      "execution_count": null,
      "outputs": []
    },
    {
      "cell_type": "code",
      "source": [
        "print(Nama)"
      ],
      "metadata": {
        "colab": {
          "base_uri": "https://localhost:8080/"
        },
        "id": "xD9q5H2ak3OO",
        "outputId": "253b1f39-1a39-47a4-fcb5-d08b26ea0992"
      },
      "execution_count": null,
      "outputs": [
        {
          "output_type": "stream",
          "name": "stdout",
          "text": [
            "Sazkya Fadlila\n"
          ]
        }
      ]
    },
    {
      "cell_type": "code",
      "source": [
        "print(\"Nama\")"
      ],
      "metadata": {
        "colab": {
          "base_uri": "https://localhost:8080/"
        },
        "id": "WCQNomttlaAu",
        "outputId": "209278ce-c172-4835-8ef1-c48b9f515ece"
      },
      "execution_count": null,
      "outputs": [
        {
          "output_type": "stream",
          "name": "stdout",
          "text": [
            "Nama\n"
          ]
        }
      ]
    },
    {
      "cell_type": "code",
      "source": [
        "print(usia)"
      ],
      "metadata": {
        "colab": {
          "base_uri": "https://localhost:8080/"
        },
        "id": "OlgdJvyRlk5r",
        "outputId": "54ff72df-2f6f-4ad4-a12d-f43fbd1bab61"
      },
      "execution_count": null,
      "outputs": [
        {
          "output_type": "stream",
          "name": "stdout",
          "text": [
            "15\n"
          ]
        }
      ]
    },
    {
      "cell_type": "code",
      "source": [
        "print(\"usia\")"
      ],
      "metadata": {
        "colab": {
          "base_uri": "https://localhost:8080/"
        },
        "id": "KXf-vFavlrWN",
        "outputId": "bcbdbbdb-9826-4511-fc48-ad9509f6a9c6"
      },
      "execution_count": null,
      "outputs": [
        {
          "output_type": "stream",
          "name": "stdout",
          "text": [
            "usia\n"
          ]
        }
      ]
    },
    {
      "cell_type": "code",
      "source": [
        "berat_badan=45\n",
        "nama_saudara=\"Asfa Faisal Hanif\""
      ],
      "metadata": {
        "id": "Go8Bw_Bdm4Gf"
      },
      "execution_count": null,
      "outputs": []
    },
    {
      "cell_type": "code",
      "source": [
        "print(berat_badan)"
      ],
      "metadata": {
        "colab": {
          "base_uri": "https://localhost:8080/"
        },
        "id": "n8HSGFtmnCOr",
        "outputId": "7aedcae4-6b37-4615-a3ec-9179331855c1"
      },
      "execution_count": null,
      "outputs": [
        {
          "output_type": "stream",
          "name": "stdout",
          "text": [
            "45\n"
          ]
        }
      ]
    },
    {
      "cell_type": "code",
      "source": [
        "print(\"berat_badan\")"
      ],
      "metadata": {
        "colab": {
          "base_uri": "https://localhost:8080/"
        },
        "id": "kl5dJcIOnHnE",
        "outputId": "28992689-b87e-4aea-e3fe-2d587f7cd67e"
      },
      "execution_count": null,
      "outputs": [
        {
          "output_type": "stream",
          "name": "stdout",
          "text": [
            "berat_badan\n"
          ]
        }
      ]
    },
    {
      "cell_type": "code",
      "source": [
        "print(nama_saudara)"
      ],
      "metadata": {
        "colab": {
          "base_uri": "https://localhost:8080/"
        },
        "id": "C5zUj7r0nLja",
        "outputId": "10cb2995-9125-49e0-c2d5-cc1cf3c2323b"
      },
      "execution_count": null,
      "outputs": [
        {
          "output_type": "stream",
          "name": "stdout",
          "text": [
            "Asfa Faisal Hanif\n"
          ]
        }
      ]
    },
    {
      "cell_type": "code",
      "source": [
        "print(\"nama_saudara\")"
      ],
      "metadata": {
        "colab": {
          "base_uri": "https://localhost:8080/"
        },
        "id": "2U0911oPnPR6",
        "outputId": "34b8fd87-2148-476c-a91b-2bc1b21aff8d"
      },
      "execution_count": null,
      "outputs": [
        {
          "output_type": "stream",
          "name": "stdout",
          "text": [
            "nama_saudara\n"
          ]
        }
      ]
    },
    {
      "cell_type": "markdown",
      "source": [
        "#Menampilkan Nilai Variabel dan Teks Bebas"
      ],
      "metadata": {
        "id": "ClNIU7Y2r2Ni"
      }
    },
    {
      "cell_type": "code",
      "source": [
        "print(\"Halo nama saya\",Nama,\".Usia saya\",usia,\"tahun.\")"
      ],
      "metadata": {
        "colab": {
          "base_uri": "https://localhost:8080/"
        },
        "id": "1cuzZzVAsrQl",
        "outputId": "3b16b556-083d-4dac-ee26-dbe7cb129b56"
      },
      "execution_count": null,
      "outputs": [
        {
          "output_type": "stream",
          "name": "stdout",
          "text": [
            "Halo nama saya Sazkya Fadlila .Usia saya 15 tahun.\n"
          ]
        }
      ]
    },
    {
      "cell_type": "code",
      "source": [
        "print(\"Halo nama saya \"+Nama+\". Usia saya \"+str(usia)+\" tahun.\")"
      ],
      "metadata": {
        "colab": {
          "base_uri": "https://localhost:8080/"
        },
        "id": "mGTFET3RtYZS",
        "outputId": "99a65d6b-1210-42fe-f1c1-6994e1f0c6bd"
      },
      "execution_count": null,
      "outputs": [
        {
          "output_type": "stream",
          "name": "stdout",
          "text": [
            "Halo nama saya Sazkya Fadlila. Usia saya 15 tahun.\n"
          ]
        }
      ]
    },
    {
      "cell_type": "code",
      "source": [
        "print(f\"Halo nama saya {Nama}. Usia saya {usia} tahun.\")"
      ],
      "metadata": {
        "colab": {
          "base_uri": "https://localhost:8080/"
        },
        "id": "XAcog5H_twUU",
        "outputId": "48348749-902e-49ff-91e3-8dc1d41a8150"
      },
      "execution_count": null,
      "outputs": [
        {
          "output_type": "stream",
          "name": "stdout",
          "text": [
            "Halo nama saya Sazkya Fadlila. Usia saya 15 tahun.\n"
          ]
        }
      ]
    },
    {
      "cell_type": "markdown",
      "source": [
        "latihan soal:\n",
        "\n",
        "Gunakan ketiga metode untuk menampilkan teks bebas dan nilai variabel untuk kalimat berikut:\n",
        "\n",
        "nama saudara saya adalah... berat badannya adalah...."
      ],
      "metadata": {
        "id": "XRVD8r9uuCpv"
      }
    },
    {
      "cell_type": "code",
      "source": [
        "print(\"Nama saudara saya adalah \",nama_saudara,\". Berat badannya adalah \",berat_badan,\" kg.\")"
      ],
      "metadata": {
        "colab": {
          "base_uri": "https://localhost:8080/"
        },
        "id": "K3g7pWM4ua87",
        "outputId": "b9d637a0-5006-458f-84cf-b9f626b7a142"
      },
      "execution_count": null,
      "outputs": [
        {
          "output_type": "stream",
          "name": "stdout",
          "text": [
            "Nama saudara saya adalah  Asfa Faisal Hanif . Berat badannya adalah  45  kg.\n"
          ]
        }
      ]
    },
    {
      "cell_type": "code",
      "source": [
        "print(\"Nama saudara saya adalah \"+nama_saudara+\". Berat badannya adalah \"+str(berat_badan)+\" kg.\")"
      ],
      "metadata": {
        "colab": {
          "base_uri": "https://localhost:8080/"
        },
        "id": "e7P1wniMu4_T",
        "outputId": "bf6320e0-f430-4be6-ed22-57c2523f0bef"
      },
      "execution_count": null,
      "outputs": [
        {
          "output_type": "stream",
          "name": "stdout",
          "text": [
            "Nama saudara saya adalah Asfa Faisal Hanif. Berat badannya adalah 45 kg.\n"
          ]
        }
      ]
    },
    {
      "cell_type": "code",
      "source": [
        "print(f\"Nama saudara saya adalah {nama_saudara}. Berat badannya adalah {berat_badan} kg\")"
      ],
      "metadata": {
        "colab": {
          "base_uri": "https://localhost:8080/"
        },
        "id": "3p3gqglxvPRX",
        "outputId": "97afa83d-3ced-45cf-e914-8617e0292d53"
      },
      "execution_count": null,
      "outputs": [
        {
          "output_type": "stream",
          "name": "stdout",
          "text": [
            "Nama saudara saya adalah Asfa Faisal Hanif. Berat badannya adalah 45 kg\n"
          ]
        }
      ]
    },
    {
      "cell_type": "markdown",
      "source": [
        "#Escape character"
      ],
      "metadata": {
        "id": "ltjnoX8ptwtd"
      }
    },
    {
      "cell_type": "code",
      "source": [
        "print(\"nama: Sazkya fadlila\n",
        "kelas: x.3\n",
        "no. absen: 29\")"
      ],
      "metadata": {
        "colab": {
          "base_uri": "https://localhost:8080/",
          "height": 176
        },
        "id": "CNg4bUiRt4w7",
        "outputId": "f1d5fa0e-2ee6-4999-bafd-a5e2f399a288"
      },
      "execution_count": null,
      "outputs": [
        {
          "output_type": "error",
          "ename": "SyntaxError",
          "evalue": "unterminated string literal (detected at line 1) (ipython-input-652192620.py, line 1)",
          "traceback": [
            "\u001b[0;36m  File \u001b[0;32m\"/tmp/ipython-input-652192620.py\"\u001b[0;36m, line \u001b[0;32m1\u001b[0m\n\u001b[0;31m    print(\"nama: Sazkya fadlila\u001b[0m\n\u001b[0m          ^\u001b[0m\n\u001b[0;31mSyntaxError\u001b[0m\u001b[0;31m:\u001b[0m unterminated string literal (detected at line 1)\n"
          ]
        }
      ]
    },
    {
      "cell_type": "code",
      "source": [
        "\n",
        "print(\"nama: Sazkya fadlila\")\n",
        "\n",
        "print(\"kelas: x.3\")\n",
        "\n",
        "print(\"no. absen: 29\")"
      ],
      "metadata": {
        "colab": {
          "base_uri": "https://localhost:8080/"
        },
        "id": "SHizLeSGuSjk",
        "outputId": "3ba4bfe2-3f86-43f3-9687-782776c534cc"
      },
      "execution_count": null,
      "outputs": [
        {
          "output_type": "stream",
          "name": "stdout",
          "text": [
            "nama: Sazkya fadlila\n",
            "kelas: x.3\n",
            "no. absen: 29\n"
          ]
        }
      ]
    },
    {
      "cell_type": "code",
      "source": [
        "\n",
        "print(\"nama: Sazkya fadlila\\nkelas: x.3\\nno. absen: 29\")"
      ],
      "metadata": {
        "colab": {
          "base_uri": "https://localhost:8080/"
        },
        "id": "4BWBh8Ddu7Gb",
        "outputId": "9560cfdc-28bd-42f2-9f61-000d7a1aefca"
      },
      "execution_count": null,
      "outputs": [
        {
          "output_type": "stream",
          "name": "stdout",
          "text": [
            "nama: Sazkya fadlila\n",
            "kelas: x.3\n",
            "no. absen: 29\n"
          ]
        }
      ]
    },
    {
      "cell_type": "code",
      "source": [
        "\n",
        "print(\"\"\"nama\\t\\t: Sazkya fadlila\n",
        "kelas\\t\\t: x.3\n",
        "no. absen\\t: 29\"\"\")"
      ],
      "metadata": {
        "colab": {
          "base_uri": "https://localhost:8080/"
        },
        "id": "KrtCeipuvmMn",
        "outputId": "022fdb86-e0b0-4d84-c0be-8e2a524566ec"
      },
      "execution_count": null,
      "outputs": [
        {
          "output_type": "stream",
          "name": "stdout",
          "text": [
            "nama\t\t: Sazkya fadlila\n",
            "kelas\t\t: x.3\n",
            "no. absen\t: 29\n"
          ]
        }
      ]
    },
    {
      "cell_type": "code",
      "source": [
        "print(\"Nama: Habibie Ainun\")"
      ],
      "metadata": {
        "colab": {
          "base_uri": "https://localhost:8080/"
        },
        "id": "ceQM505NwDC9",
        "outputId": "f692589d-1973-4eaf-f145-6c77eed8ce18"
      },
      "execution_count": null,
      "outputs": [
        {
          "output_type": "stream",
          "name": "stdout",
          "text": [
            "Nama: Habibie Ainun\n"
          ]
        }
      ]
    },
    {
      "cell_type": "code",
      "source": [
        "print('Nama: Habibie Ainun')"
      ],
      "metadata": {
        "colab": {
          "base_uri": "https://localhost:8080/"
        },
        "id": "CJ16z84gwKBy",
        "outputId": "5408443c-3225-434f-98e4-1343aa5e6f30"
      },
      "execution_count": null,
      "outputs": [
        {
          "output_type": "stream",
          "name": "stdout",
          "text": [
            "Nama: Habibie Ainun\n"
          ]
        }
      ]
    },
    {
      "cell_type": "code",
      "source": [
        "print('Nama: Habibie A\\'inun')"
      ],
      "metadata": {
        "colab": {
          "base_uri": "https://localhost:8080/"
        },
        "id": "07Fv7eLawrFl",
        "outputId": "bcfa438b-7204-4c88-f8f3-7446514d44f7"
      },
      "execution_count": null,
      "outputs": [
        {
          "output_type": "stream",
          "name": "stdout",
          "text": [
            "Nama: Habibie A'inun\n"
          ]
        }
      ]
    },
    {
      "cell_type": "code",
      "source": [
        "print(\"Nama: Habibie A'inun\")"
      ],
      "metadata": {
        "colab": {
          "base_uri": "https://localhost:8080/"
        },
        "id": "M0eLAwrkw1Nh",
        "outputId": "616f457f-5a68-4f13-8221-9536d0594264"
      },
      "execution_count": null,
      "outputs": [
        {
          "output_type": "stream",
          "name": "stdout",
          "text": [
            "Nama: Habibie A'inun\n"
          ]
        }
      ]
    },
    {
      "cell_type": "code",
      "source": [
        "print(\"Bu Shinta berkata, \\\"Silahkan lihat ke layar TV.\\\".\")"
      ],
      "metadata": {
        "colab": {
          "base_uri": "https://localhost:8080/"
        },
        "id": "D9hqk4uIxA9c",
        "outputId": "e77a2955-9480-4bf4-dbe8-46c916a29353"
      },
      "execution_count": null,
      "outputs": [
        {
          "output_type": "stream",
          "name": "stdout",
          "text": [
            "Bu Shinta berkata, \"Silahkan lihat ke layar TV.\".\n"
          ]
        }
      ]
    },
    {
      "cell_type": "code",
      "source": [
        "print('Bu Shinta berkata, \"Silahkan lihat ke layar TV.\".')"
      ],
      "metadata": {
        "colab": {
          "base_uri": "https://localhost:8080/"
        },
        "id": "Tt7kV_LAxb2F",
        "outputId": "ecc7266e-d859-40cf-eb92-bdbbfaefb374"
      },
      "execution_count": null,
      "outputs": [
        {
          "output_type": "stream",
          "name": "stdout",
          "text": [
            "Bu Shinta berkata, \"Silahkan lihat ke layar TV.\".\n"
          ]
        }
      ]
    },
    {
      "cell_type": "code",
      "source": [
        "print(\"\"\"Nama file: Tugas KKA\n",
        "Lokasi file: D:\\\\Man demak\\\\"
      ],
      "metadata": {
        "id": "v2gd2X0Pxtuk"
      },
      "execution_count": null,
      "outputs": []
    },
    {
      "cell_type": "markdown",
      "source": [
        "latihan soal:\n",
        "\n",
        "Tampilkan soal sebagai berikut:\n",
        "\n",
        "Nama file: Ulangan Harian Ma'rifatullah\n",
        "\n",
        "lokasi file:D\\Mata Kuliah\\Ma'rifatullah"
      ],
      "metadata": {
        "id": "xdffZNbqyW6j"
      }
    },
    {
      "cell_type": "code",
      "source": [
        "print('Nama file\\t: Ulangan Harian Ma\\'rifatullah\\nLokasi file\\t: D:\\\\Mata kuliah\\\\Ma\\'rifatullah')"
      ],
      "metadata": {
        "id": "5-uwHjtvzTFi",
        "colab": {
          "base_uri": "https://localhost:8080/"
        },
        "outputId": "32829a8b-03d7-40c4-93bc-f09ef658ef04"
      },
      "execution_count": null,
      "outputs": [
        {
          "output_type": "stream",
          "name": "stdout",
          "text": [
            "Nama file\t: Ulangan Harian Ma'rifatullah\n",
            "Lokasi file\t: D:\\Mata kuliah\\Ma'rifatullah\n"
          ]
        }
      ]
    },
    {
      "cell_type": "markdown",
      "source": [
        "#Parameter Fungsi print"
      ],
      "metadata": {
        "id": "ZeLBRERB1m6Q"
      }
    },
    {
      "cell_type": "code",
      "source": [
        "nama_siswa_1 = \"alvin\"\n",
        "nama_siswa_2 = \"hanung\"\n",
        "nama_siswa_3 = \"fathir\"\n",
        "\n",
        "print(nama_siswa_1, end=\"-\")\n",
        "print(nama_siswa_2, end=\"-\")\n",
        "print(nama_siswa_3)"
      ],
      "metadata": {
        "colab": {
          "base_uri": "https://localhost:8080/"
        },
        "id": "M0_bMHGA1rx6",
        "outputId": "eecb8116-a36f-4f36-86e5-2cbf85c13ab9"
      },
      "execution_count": 1,
      "outputs": [
        {
          "output_type": "stream",
          "name": "stdout",
          "text": [
            "alvin-hanung-fathir\n"
          ]
        }
      ]
    },
    {
      "cell_type": "code",
      "source": [
        "print(nama_siswa_1, nama_siswa_2, nama_siswa_3, sep=\"-\")"
      ],
      "metadata": {
        "colab": {
          "base_uri": "https://localhost:8080/"
        },
        "id": "95TPJ9Wf1sNE",
        "outputId": "142f6267-c048-4952-b21f-e359ef453431"
      },
      "execution_count": 2,
      "outputs": [
        {
          "output_type": "stream",
          "name": "stdout",
          "text": [
            "alvin-hanung-fathir\n"
          ]
        }
      ]
    },
    {
      "cell_type": "code",
      "source": [
        "nama_siswa_1 = \"Jielo\"\n",
        "nama_siswa_2 = \"Aida\"\n",
        "nama_siswa_3 = \"Dani\"\n",
        "nama_siswa_4 = \"Nurul\"\n",
        "\n",
        "print(nama_siswa_4, end=\"/\")\n",
        "print(nama_siswa_2, end=\"/\")\n",
        "print(nama_siswa_1, end=\"/\")\n",
        "print(nama_siswa_3)"
      ],
      "metadata": {
        "colab": {
          "base_uri": "https://localhost:8080/"
        },
        "id": "-wwI2AIS2igq",
        "outputId": "d99afb01-23a2-4f7b-a686-47f2c7c5ca1b"
      },
      "execution_count": 3,
      "outputs": [
        {
          "output_type": "stream",
          "name": "stdout",
          "text": [
            "Nurul/Aida/Jielo/Dani\n"
          ]
        }
      ]
    },
    {
      "cell_type": "code",
      "source": [
        "nama_siswa_5 = \"Hasbi\"\n",
        "nama_siswa_6 = \"Habibi\"\n",
        "nama_siswa_7 = \"Rendra\"\n",
        "nama_siswa_8 = \"Naufal\"\n",
        "\n",
        "print(nama_siswa_5, nama_siswa_8, nama_siswa_7, nama_siswa_6, nama_siswa_8, sep=\"*\")"
      ],
      "metadata": {
        "colab": {
          "base_uri": "https://localhost:8080/"
        },
        "id": "5imMaQta3znR",
        "outputId": "b8eb8756-3ced-42a4-ca8b-c4e14c50e401"
      },
      "execution_count": 4,
      "outputs": [
        {
          "output_type": "stream",
          "name": "stdout",
          "text": [
            "Hasbi*Naufal*Rendra*Habibi*Naufal\n"
          ]
        }
      ]
    }
  ]
}